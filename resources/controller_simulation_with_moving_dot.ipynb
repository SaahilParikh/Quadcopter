{
 "cells": [
  {
   "cell_type": "code",
   "execution_count": 1,
   "metadata": {},
   "outputs": [],
   "source": [
    "#PID VALUES FOR GRAPH\n",
    "kP = 1.5\n",
    "kI = 0.005\n",
    "kD = 100.6"
   ]
  },
  {
   "cell_type": "code",
   "execution_count": 2,
   "metadata": {},
   "outputs": [],
   "source": [
    "from math import sqrt\n",
    "MAX_RATE = 10\n",
    "TIME_STEP = 0.02 #50Hz\n",
    "DEBUG = False\n",
    "MAX_ACCELERATION = 3\n",
    "\n",
    "class dot:\n",
    "    \n",
    "    max_rate = MAX_RATE\n",
    "    Max_Acceleration = MAX_ACCELERATION\n",
    "    IDENTIFICATION = False  \n",
    "    calc_error = lambda self: self.Target - self.Current\n",
    "\n",
    "    def __init__(self, Current, Target = False):\n",
    "        self.Current = Current\n",
    "        self.Previous = False\n",
    "        self.Target = Target\n",
    "        self.Error = self.Target-self.Current if Target else 0\n",
    "        self.Previous_Error = self.Error\n",
    "        self.Integral = 0\n",
    "        self.Velocity = 0\n",
    "        self.vPrev = 0\n",
    "        self.reachedTargetCount = 0\n",
    "        self.DONE = False\n",
    "        \n",
    "    def action(self):\n",
    "        self.movement()\n",
    "        self.checkDone()\n",
    "        \n",
    "    def checkDone(self):\n",
    "        if abs(self.Target - self.Current) < 0.05:\n",
    "            self.reachedTargetCount += 1\n",
    "            if self.reachedTargetCount == 10:\n",
    "                self.DONE = True\n",
    "        else:\n",
    "            self.reachedTargetCount = 0\n",
    "\n",
    "    def movement(self):\n",
    "        vDesired = constrainer(self.v_profile(self), self.max_rate)\n",
    "        self.Velocity = Acceleration_Constrainer(self, vDesired)\n",
    "        Delta = TIME_STEP*self.Velocity\n",
    "        self.Previous = self.Current\n",
    "        self.Current = Delta+self.Current\n",
    "        self.vPrev = self.Velocity\n",
    "        \n",
    "    def __str__(self):\n",
    "        if self.DONE:\n",
    "            return self.Target\n",
    "        if self.IDENTIFICATION:\n",
    "            return self.IDENTIFICATION + str(round(self.Current, 3))\n",
    "        return str(round(self.Current, 3))\n",
    "    \n",
    "    def __repr__(self):\n",
    "        return str(self.__str__())\n",
    "\n",
    "class PID_controller:\n",
    "\n",
    "    def __init__(self, kP = 1, kI = 0, kD = 0):\n",
    "        self.kP = kP\n",
    "        self.kI = kI\n",
    "        self.kD = kD\n",
    "\n",
    "    def calc(self, dot):\n",
    "        return self.kP*dot.Proportion+self.kI*dot.Integral+self.kD*dot.Derivitive\n",
    "\n",
    "class Frame:\n",
    "\n",
    "    def __init__(self, dots):\n",
    "        assert type(dots) == list, \"dots should be of type list\"\n",
    "        self.dots = dots\n",
    "\n",
    "    def addDot(self, dot):\n",
    "        self.dots.append(dot)\n",
    "\n",
    "    def update(self):\n",
    "        for dot in self.dots:\n",
    "            dot.action()\n",
    "\n",
    "def PID_profile_maker(PID):\n",
    "    assert type(PID) == PID_controller, \"PID parameter for function PID_profile_maker should be of type PID\"\n",
    "    def v_profile(_dot):\n",
    "        assert type(_dot) == dot, \"Dot must be a parameter to v_profile\"\n",
    "        _dot.Error = _dot.calc_error()\n",
    "        _dot.Proportion = _dot.Error\n",
    "        _dot.Integral += _dot.Error*TIME_STEP\n",
    "        _dot.Derivitive = (_dot.Error-_dot.Previous_Error)/TIME_STEP\n",
    "        _dot.Previous_Error = _dot.Error\n",
    "        if(DEBUG):\n",
    "            print(str(_dot.Error) + ' ' + str(PID.calc(_dot)))\n",
    "        return PID.calc(_dot)\n",
    "    return v_profile\n",
    "\n",
    "#TEST CONTROLLERS\n",
    "P_C = PID_controller()\n",
    "PI_C = PID_controller(1, 0.001, 0)\n",
    "PID_C = PID_controller(1, 0.001, 3)\n",
    "I_C = PID_controller(0, 0.1, 0)\n",
    "PD_C = PID_controller(1, 0, 0.1)\n",
    "D_C = PID_controller(0.001, 0 , 1)\n",
    "\n",
    "controllers = [P_C, PI_C, PID_C, I_C, PD_C, D_C]\n",
    "v_profiles = [PID_profile_maker(controller) for controller in controllers]\n",
    "\n",
    "\n",
    "sgn = lambda number: 0 if number == 0 else (1 if number > 0 else -1)\n",
    "\n",
    "constrainer = lambda number, constraint: min(number, sgn(number)*constraint, key=abs)\n",
    "\n",
    "def Acceleration_Constrainer(_dot, vDesired, Time_Step = TIME_STEP):\n",
    "    if abs(vDesired - _dot.vPrev) > _dot.Max_Acceleration:\n",
    "        return (sgn(vDesired-_dot.vPrev)*_dot.Max_Acceleration*Time_Step)+_dot.vPrev\n",
    "    return vDesired\n",
    "\n",
    "\n",
    "\n",
    "bang_bang = lambda error: sgn(error)\n",
    "proportional = lambda error: error\n",
    "quadratic = lambda error: sgn(error)*error**2\n",
    "square_root = lambda error: sgn(error)*sqrt(abs(error))\n",
    "rate_arr = [bang_bang, proportional, quadratic, square_root]\n",
    "\n",
    "range_array = lambda start, end, step: [_ * step for _ in range(int(start*step**-1), int(end*step**-1))]\n",
    "\n",
    "def rate_test():\n",
    "\n",
    "    print(\"-10, 10\" +str([rate(error) for rate in rate_arr for error in range(-10,10)]))\n",
    "    print(\"-1, 1 s 0.1\" +str([rate(error) for rate in rate_arr for error in range_array(-1, 1, 0.1)]))\n",
    "\n",
    "def test():\n",
    "\n",
    "    dot_array = [dot(0) for _ in range(len(v_profiles))]\n",
    "    for d, v_prof in zip(dot_array, v_profiles):\n",
    "        d.v_profile = v_prof\n",
    "        d.Target = 500\n",
    "\n",
    "    test_frame = Frame(dot_array)\n",
    "    for _ in range(int(TARGET*(1/(TIME_STEP*MAX_RATE)*3))):\n",
    "        print(str(_)+ ': ', dot_array)\n",
    "        test_frame.update()\n",
    "\n"
   ]
  },
  {
   "cell_type": "code",
   "execution_count": 3,
   "metadata": {},
   "outputs": [],
   "source": [
    "def getData(v_p, startPosition, endPosition):\n",
    "    data_dot = dot(startPosition)\n",
    "    data_dot.v_profile = v_p\n",
    "    data_dot.Target = endPosition\n",
    "    data_Frame = Frame([data_dot])\n",
    "    \n",
    "    dataPos = []\n",
    "    dataVelo = []\n",
    "    \n",
    "    \n",
    "    watchDog = 0\n",
    "    \n",
    "    while(not data_dot.DONE):\n",
    "        dataPos.append(data_dot.Current)\n",
    "        dataVelo.append(data_dot.Velocity)\n",
    "        data_Frame.update()\n",
    "        watchDog += 1\n",
    "        if watchDog>1000000:\n",
    "            data_dot.DONE = True\n",
    "        #print(data_dot.Current)\n",
    "    dataPos.append(data_dot.Current)\n",
    "    dataVelo.append(data_dot.Velocity)\n",
    "    \n",
    "    return dataPos, dataVelo\n"
   ]
  },
  {
   "cell_type": "code",
   "execution_count": 4,
   "metadata": {
    "scrolled": true
   },
   "outputs": [
    {
     "name": "stdout",
     "output_type": "stream",
     "text": [
      "798 798\n"
     ]
    },
    {
     "data": {
      "text/plain": [
       "[<matplotlib.lines.Line2D at 0x7f82a0fd9da0>]"
      ]
     },
     "execution_count": 4,
     "metadata": {},
     "output_type": "execute_result"
    },
    {
     "data": {
      "image/png": "[encoded data removed]",
      "text/plain": [
       "<Figure size 432x288 with 1 Axes>"
      ]
     },
     "metadata": {
      "needs_background": "light"
     },
     "output_type": "display_data"
    }
   ],
   "source": [
    "import matplotlib.pyplot as plt\n",
    "\n",
    "%matplotlib inline\n",
    "Target = 100\n",
    "\n",
    "\n",
    "Data1Pos, Data1Velo = getData(PID_profile_maker(PID_controller(1.0, 0, 0)), 0, Target)\n",
    "Data2Pos, Data2Velo = getData(PID_profile_maker(PID_controller(1.0, 0.0, 0.0)), 0, Target)\n",
    "print(len(Data1Pos), len(Data2Pos))\n",
    "plt.plot(Data1Pos, color='Red')\n",
    "plt.plot(Data2Pos, color='Green')\n",
    "plt.plot([Target]*max(len(Data1Pos), len(Data2Pos)), color='Black', linewidth=2, linestyle='dashed', label=\"target\")"
   ]
  },
  {
   "cell_type": "code",
   "execution_count": 5,
   "metadata": {},
   "outputs": [
    {
     "data": {
      "text/plain": [
       "[<matplotlib.lines.Line2D at 0x7f82e069c0b8>]"
      ]
     },
     "execution_count": 5,
     "metadata": {},
     "output_type": "execute_result"
    },
    {
     "data": {
      "image/png": "[encoded data removed]",
      "text/plain": [
       "<Figure size 432x288 with 1 Axes>"
      ]
     },
     "metadata": {
      "needs_background": "light"
     },
     "output_type": "display_data"
    }
   ],
   "source": [
    "Data3Pos, Data3Velo = getData(PID_profile_maker(PID_controller(17.0, 0, 0)), 0, Target)\n",
    "plt.plot(Data3Pos, color='Red')\n",
    "plt.plot([Target]*len(Data3Pos), color='Black', linewidth=2, linestyle='dashed', label=\"target\")"
   ]
  },
  {
   "cell_type": "code",
   "execution_count": 6,
   "metadata": {},
   "outputs": [
    {
     "data": {
      "text/plain": [
       "[<matplotlib.lines.Line2D at 0x7f82a10536d8>]"
      ]
     },
     "execution_count": 6,
     "metadata": {},
     "output_type": "execute_result"
    },
    {
     "data": {
      "image/png": "[encoded data removed]",
      "text/plain": [
       "<Figure size 432x288 with 1 Axes>"
      ]
     },
     "metadata": {
      "needs_background": "light"
     },
     "output_type": "display_data"
    }
   ],
   "source": [
    "Data3Pos, Data3Velo = getData(PID_profile_maker(PID_controller(18.0, 0, 0)), 0, Target)\n",
    "plt.plot(Data3Pos, color='Red')\n",
    "plt.plot([Target]*len(Data3Pos), color='Black', linewidth=2, linestyle='dashed', label=\"target\")"
   ]
  },
  {
   "cell_type": "code",
   "execution_count": 7,
   "metadata": {},
   "outputs": [
    {
     "data": {
      "text/plain": [
       "[<matplotlib.lines.Line2D at 0x7f82a1089f28>]"
      ]
     },
     "execution_count": 7,
     "metadata": {},
     "output_type": "execute_result"
    },
    {
     "data": {
      "image/png": "[encoded data removed]",
      "text/plain": [
       "<Figure size 432x288 with 1 Axes>"
      ]
     },
     "metadata": {
      "needs_background": "light"
     },
     "output_type": "display_data"
    }
   ],
   "source": [
    "Data3Pos, Data3Velo = getData(PID_profile_maker(PID_controller(19, 0, 0)), 0, Target)\n",
    "plt.plot(Data3Pos, color='Red')\n",
    "plt.plot([Target]*len(Data3Pos), color='Black', linewidth=2, linestyle='dashed', label=\"target\")"
   ]
  },
  {
   "cell_type": "code",
   "execution_count": 8,
   "metadata": {},
   "outputs": [
    {
     "data": {
      "text/plain": [
       "[<matplotlib.lines.Line2D at 0x7f82a105aa20>]"
      ]
     },
     "execution_count": 8,
     "metadata": {},
     "output_type": "execute_result"
    },
    {
     "data": {
      "image/png": "[encoded data removed]",
      "text/plain": [
       "<Figure size 432x288 with 1 Axes>"
      ]
     },
     "metadata": {
      "needs_background": "light"
     },
     "output_type": "display_data"
    }
   ],
   "source": [
    "Data3Pos, Data3Velo = getData(PID_profile_maker(PID_controller(21, 0, 0)), 0, Target)\n",
    "plt.plot(Data3Pos, color='Red')\n",
    "plt.plot([Target]*len(Data3Pos), color='Black', linewidth=2, linestyle='dashed', label=\"target\")"
   ]
  },
  {
   "cell_type": "code",
   "execution_count": 9,
   "metadata": {
    "scrolled": true
   },
   "outputs": [
    {
     "data": {
      "text/plain": [
       "[<matplotlib.lines.Line2D at 0x7f82e145eef0>]"
      ]
     },
     "execution_count": 9,
     "metadata": {},
     "output_type": "execute_result"
    },
    {
     "data": {
      "image/png": "[encoded data removed]",
      "text/plain": [
       "<Figure size 432x288 with 1 Axes>"
      ]
     },
     "metadata": {
      "needs_background": "light"
     },
     "output_type": "display_data"
    }
   ],
   "source": [
    "plt.plot(Data1Velo, color='Red')\n",
    "plt.plot(Data2Velo, color='Green')\n",
    "plt.plot([dot.max_rate]*max(len(Data1Pos), len(Data2Pos)), color='Black', linewidth=2, linestyle='dashed', label=\"target\")\n",
    "plt.plot([-dot.max_rate]*max(len(Data1Pos), len(Data2Pos)), color='Black', linewidth=2, linestyle='dashed', label=\"target\")"
   ]
  },
  {
   "cell_type": "code",
   "execution_count": null,
   "metadata": {},
   "outputs": [],
   "source": []
  },
  {
   "cell_type": "code",
   "execution_count": null,
   "metadata": {},
   "outputs": [],
   "source": []
  },
  {
   "cell_type": "code",
   "execution_count": null,
   "metadata": {},
   "outputs": [],
   "source": []
  }
 ],
 "metadata": {
  "kernelspec": {
   "display_name": "Python 3",
   "language": "python",
   "name": "python3"
  },
  "language_info": {
   "codemirror_mode": {
    "name": "ipython",
    "version": 3
   },
   "file_extension": ".py",
   "mimetype": "text/x-python",
   "name": "python",
   "nbconvert_exporter": "python",
   "pygments_lexer": "ipython3",
   "version": "3.7.3"
  }
 },
 "nbformat": 4,
 "nbformat_minor": 2
}
